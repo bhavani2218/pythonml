{
  "nbformat": 4,
  "nbformat_minor": 0,
  "metadata": {
    "colab": {
      "provenance": []
    },
    "kernelspec": {
      "name": "python3",
      "display_name": "Python 3"
    },
    "language_info": {
      "name": "python"
    }
  },
  "cells": [
    {
      "cell_type": "code",
      "execution_count": null,
      "metadata": {
        "id": "f03Jnn8VhNef"
      },
      "outputs": [],
      "source": [
        "str_number = \"123\"\n",
        "int number = int(str_number)\n"
      ]
    },
    {
      "cell_type": "code",
      "source": [
        "str_number = \"123\"\n",
        "int number = int(str_number)\n",
        "float_number = float(str_number)"
      ],
      "metadata": {
        "colab": {
          "base_uri": "https://localhost:8080/",
          "height": 106
        },
        "id": "XJxhKS1OhcOY",
        "outputId": "0e56879c-cc7f-4e87-ca6f-e0016cb4336d"
      },
      "execution_count": null,
      "outputs": [
        {
          "output_type": "error",
          "ename": "SyntaxError",
          "evalue": "invalid syntax (ipython-input-1-4029060233.py, line 2)",
          "traceback": [
            "\u001b[0;36m  File \u001b[0;32m\"/tmp/ipython-input-1-4029060233.py\"\u001b[0;36m, line \u001b[0;32m2\u001b[0m\n\u001b[0;31m    int number = int(str_number)\u001b[0m\n\u001b[0m        ^\u001b[0m\n\u001b[0;31mSyntaxError\u001b[0m\u001b[0;31m:\u001b[0m invalid syntax\n"
          ]
        }
      ]
    },
    {
      "cell_type": "code",
      "source": [
        "first_name = \"bhavani\"\n",
        "last_name = \"siri\"\n",
        "age = 25\n",
        "height = 5.8\n",
        "is_student = True"
      ],
      "metadata": {
        "id": "CctvAVKAh-Nx"
      },
      "execution_count": null,
      "outputs": []
    },
    {
      "cell_type": "code",
      "source": [
        "print(f\"Name: {first_name} {last_name}\")\n",
        "print(f\"Age: {age}\")\n",
        "print(f\"Height: {height}feet\")\n",
        "print(f\"student: {is_student}\")"
      ],
      "metadata": {
        "colab": {
          "base_uri": "https://localhost:8080/"
        },
        "id": "9QgtM92RiY1I",
        "outputId": "0e5b943a-6265-49dd-cd4a-f25dd99d4386"
      },
      "execution_count": null,
      "outputs": [
        {
          "output_type": "stream",
          "name": "stdout",
          "text": [
            "Name: bhavani siri\n",
            "Age: 25\n",
            "Height: 5.8feet\n",
            "student: True\n"
          ]
        }
      ]
    },
    {
      "cell_type": "code",
      "source": [
        "age_str = str(age)\n",
        "height_int = int(height)\n",
        "print(f\"Age as string: {age_str}\")\n",
        "print(f\"Height as integer: {height_int}\")"
      ],
      "metadata": {
        "colab": {
          "base_uri": "https://localhost:8080/"
        },
        "id": "5Csh8IfxkMdZ",
        "outputId": "f55c5aac-f52b-4345-ce46-975bd3fdd725"
      },
      "execution_count": null,
      "outputs": [
        {
          "output_type": "stream",
          "name": "stdout",
          "text": [
            "Age as string: 25\n",
            "Height as integer: 5\n"
          ]
        }
      ]
    },
    {
      "cell_type": "code",
      "source": [
        "a= 10\n",
        "b= 3\n",
        "print(f\"Addition: {a} + {b} = {a+b}\")\n",
        "print(f\"substraction: {a} - {b} = {a-b}\")\n",
        "print(f\"multiplication: {a} * {b} = {a*b}\")\n",
        "print(f\"division: {a} / {b} = {a/b}\")\n",
        "print(f\"floor division: {a} // {b} = {a//b}\")\n",
        "print(f\"modules: {a} % {b} = {a%b}\")\n",
        "print(f\"exponentation: {a} ** {b} = {a**b}\")\n",
        "\n",
        "\n",
        "\n"
      ],
      "metadata": {
        "colab": {
          "base_uri": "https://localhost:8080/"
        },
        "id": "WTapXJ3KlG2Q",
        "outputId": "a55c15db-aabd-431f-98f6-2de9b4e5662c"
      },
      "execution_count": null,
      "outputs": [
        {
          "output_type": "stream",
          "name": "stdout",
          "text": [
            "Addition: 10 + 3 = 13\n",
            "substraction: 10 - 3 = 7\n",
            "multiplication: 10 * 3 = 30\n",
            "division: 10 / 3 = 3.3333333333333335\n",
            "floor division: 10 // 3 = 3\n",
            "modules: 10 % 3 = 1\n",
            "exponentation: 10 ** 3 = 1000\n"
          ]
        }
      ]
    },
    {
      "cell_type": "code",
      "source": [
        " result = 2 + 3 * 4 ** 2 - 1\n",
        " print(f\"2+3*4**2-1={result}\")\n"
      ],
      "metadata": {
        "colab": {
          "base_uri": "https://localhost:8080/"
        },
        "id": "s-g-p5-Mn7ZS",
        "outputId": "6de5f5e2-f6c3-4c9b-ed75-eb7e9a240be5"
      },
      "execution_count": null,
      "outputs": [
        {
          "output_type": "stream",
          "name": "stdout",
          "text": [
            "2+3*4**2-1=49\n"
          ]
        }
      ]
    },
    {
      "cell_type": "code",
      "source": [
        "x = 5\n",
        "y = 10\n",
        "print(f\"{x}=={y}:{x==y}\")\n",
        "print(f\"{x}!={y}:{x!=y}\")\n",
        "print(f\"{x}<{y}:{x<y}\")\n",
        "print(f\"{x}>{y}:{x>y}\")\n",
        "print(f\"{x}<={y}:{x<=y}\")\n",
        "print(f\"{x}>={y}:{x>=y}\")"
      ],
      "metadata": {
        "colab": {
          "base_uri": "https://localhost:8080/"
        },
        "id": "cht_Qb_3pOOC",
        "outputId": "a1e034ef-24f9-4a3e-d6a7-677e5cefb8ed"
      },
      "execution_count": null,
      "outputs": [
        {
          "output_type": "stream",
          "name": "stdout",
          "text": [
            "5==10:False\n",
            "5!=10:True\n",
            "5<10:True\n",
            "5>10:False\n",
            "5<=10:True\n",
            "5>=10:False\n"
          ]
        }
      ]
    },
    {
      "cell_type": "code",
      "source": [
        "name1= \"bhavani\"\n",
        "name2=\"siri\"\n",
        "print(f\"'{name1}' < '{name2}':{name1 < name2}\")"
      ],
      "metadata": {
        "colab": {
          "base_uri": "https://localhost:8080/"
        },
        "id": "mM6geAH5tl16",
        "outputId": "6b7bddd9-0958-4072-e9a2-e08502530d41"
      },
      "execution_count": null,
      "outputs": [
        {
          "output_type": "stream",
          "name": "stdout",
          "text": [
            "'bhavani' < 'siri':True\n"
          ]
        }
      ]
    },
    {
      "cell_type": "code",
      "source": [
        "p=True\n",
        "q=False\n",
        "print(f\"p and q:{p and q}\")\n",
        "print(f\"p or q:{p or q}\")\n",
        "print(f\" not q:{not q}\")"
      ],
      "metadata": {
        "colab": {
          "base_uri": "https://localhost:8080/"
        },
        "id": "Etz4FG-juQ-i",
        "outputId": "574f5dfc-c4ca-4408-ea4b-f8250ccecfdf"
      },
      "execution_count": null,
      "outputs": [
        {
          "output_type": "stream",
          "name": "stdout",
          "text": [
            "p and q:False\n",
            "p or q:True\n",
            " not q:True\n"
          ]
        }
      ]
    },
    {
      "cell_type": "code",
      "source": [
        "age=20\n",
        "has_license = True\n",
        "can_drive = age >= 18 and has_license\n",
        "print(f\"can drive:{can_drive}\")"
      ],
      "metadata": {
        "colab": {
          "base_uri": "https://localhost:8080/"
        },
        "id": "d9srYSd2wMlM",
        "outputId": "7617a905-86d4-418a-888b-68d0b8448e39"
      },
      "execution_count": null,
      "outputs": [
        {
          "output_type": "stream",
          "name": "stdout",
          "text": [
            "can drive:True\n"
          ]
        }
      ]
    },
    {
      "cell_type": "code",
      "source": [
        "score = 85\n",
        "is_present = True\n",
        "can_pass = score >= 80 and is_present\n",
        "print(f\"can pass: {can_pass}\")"
      ],
      "metadata": {
        "colab": {
          "base_uri": "https://localhost:8080/"
        },
        "id": "lEvlKycCw-MW",
        "outputId": "5db5d452-7110-49fd-fc73-d405ef2bf463"
      },
      "execution_count": null,
      "outputs": [
        {
          "output_type": "stream",
          "name": "stdout",
          "text": [
            "can pass: True\n"
          ]
        }
      ]
    },
    {
      "cell_type": "code",
      "source": [
        "age=25\n",
        "annual_income = 50000\n",
        "credit_score = 720\n",
        "has_collateral = True"
      ],
      "metadata": {
        "id": "AzCXMRDBxdd8"
      },
      "execution_count": null,
      "outputs": []
    },
    {
      "cell_type": "code",
      "source": [
        "\n",
        " fruits=[\"apple\",\"banana\",\"orange\",\"grape\"]\n",
        "number ={10,20,30,40,50}\n",
        "mixed_data=[1,\"hello\",3.14,True]"
      ],
      "metadata": {
        "id": "Aj-AaHvvzTaF"
      },
      "execution_count": null,
      "outputs": []
    },
    {
      "cell_type": "code",
      "source": [
        "print(f\"first fruit: {fruits[0]}\")\n",
        "print(f\"last fruit: {fruits[-1]}\")\n",
        "print(f\"second to last: {fruits[-2]}\")"
      ],
      "metadata": {
        "colab": {
          "base_uri": "https://localhost:8080/"
        },
        "id": "uQC3YAbx_nsX",
        "outputId": "c61bd241-57e1-45e1-f7e6-809e9d151e3b"
      },
      "execution_count": null,
      "outputs": [
        {
          "output_type": "stream",
          "name": "stdout",
          "text": [
            "first fruit: apple\n",
            "last fruit: grape\n",
            "second to last: orange\n"
          ]
        }
      ]
    },
    {
      "cell_type": "code",
      "source": [
        "print(f\"first 2 fruit: {fruits[0:2]}\")\n",
        "print(f\"last 2 fruit: {fruits[-2:]}\")\n",
        "print(f\"all except first: {fruits[1:]}\")"
      ],
      "metadata": {
        "colab": {
          "base_uri": "https://localhost:8080/"
        },
        "id": "hR-BDrNKAay_",
        "outputId": "274df541-486a-459c-b813-2e5479ac41f9"
      },
      "execution_count": null,
      "outputs": [
        {
          "output_type": "stream",
          "name": "stdout",
          "text": [
            "first 2 fruit: ['apple', 'banana']\n",
            "last 2 fruit: ['orange', 'grape']\n",
            "all except first: ['banana', 'orange', 'grape']\n"
          ]
        }
      ]
    },
    {
      "cell_type": "code",
      "source": [
        "fruits.append(\"kiwi\")\n",
        "fruits.insert(1,\"strawberry\")\n",
        "removed=fruits.pop()\n",
        "print(f\"update list:{fruits}\")\n",
        "print(f\"removed{removed}\")"
      ],
      "metadata": {
        "colab": {
          "base_uri": "https://localhost:8080/"
        },
        "id": "5GyjcncTA0HP",
        "outputId": "ea5321eb-c921-430b-dbf2-1777a64c5a43"
      },
      "execution_count": null,
      "outputs": [
        {
          "output_type": "stream",
          "name": "stdout",
          "text": [
            "update list:['apple', 'strawberry', 'banana', 'orange', 'grape', 'kiwi']\n",
            "removedkiwi\n"
          ]
        }
      ]
    },
    {
      "cell_type": "code",
      "source": [],
      "metadata": {
        "id": "ZUOHYm_XBV0P"
      },
      "execution_count": null,
      "outputs": []
    }
  ]
}